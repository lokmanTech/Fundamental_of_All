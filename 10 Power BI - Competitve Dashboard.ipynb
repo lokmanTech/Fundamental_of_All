{
 "cells": [
  {
   "cell_type": "markdown",
   "metadata": {},
   "source": [
    "### Framework Power BI \n",
    "\n",
    "EXTERNAL\n",
    "1 - Database (ERP, Excel, CSV, etc.)\n",
    "\n",
    "Power BI \n",
    "2 - ETL (Extraction / Transformation / Loading)\n",
    "\n",
    "3.1 - Data Model\n",
    "3.2 - Measures\n",
    "\n",
    "4 - Visualization\n",
    "\n",
    "5 - Publishing"
   ]
  },
  {
   "cell_type": "markdown",
   "metadata": {},
   "source": [
    "### Business Case #1\n",
    "\n",
    "Analysis Goals\n",
    "Sales - Top Car Dealer = We are sales analyst and need to develop a data analysis tools for our company sales.\n",
    "\n",
    "1. Present Revenue by Country (ZA / BT)\n",
    "2. Identify TOP 3 Cars Sold\n",
    "3. Compare revenue x profit between the brands\n",
    "4. Show Revenue and Sales by City and Dealer"
   ]
  },
  {
   "cell_type": "markdown",
   "metadata": {},
   "source": [
    "### Business Case #2\n",
    "\n",
    "Project Goals\n",
    "Logistics - TopClass Freight Forwarder\n",
    "\n",
    "We are process analysts and need to develop a Data Analysis tool for analyzing the overall situation of clients and carriers OTIF (On Time (90%) - In Full (95% of orders) = OTIF (90% x 95% = 85.5%) is a measure the goodness of the data processed)\n",
    "\n",
    "1. Identify carriers' OTIF performance to present for managers\n",
    "2. Check the 5 worst OTIF accomplishment for clients so the team can create action plans for continuous improvement and immediately enhance their customer experience\n",
    "3. Identify the origin of late deliveries.\n",
    "\n",
    "Pro tips: ever encounter with CSV files that have data but not separated properly, the data might separate using ; or , whatever the case is. Here is the step where you can automatically fix it without rewrite the whole thing.\n",
    "Step 1: Press CTRL + Space (to select the whole column), then ALT + A + E, then choose delimited (and click next), then insert item that separate the data and click Finish. \n",
    "Step 2: To show the data in proper manners, press CTRL + A, then ALT + H + O + I, the data will automatically rearrange fitting with the column organizely.\n",
    "Step 3: Then make it into the table, select the data (CTRL + A) then press CTRL + T, then choose the appropriate table view"
   ]
  }
 ],
 "metadata": {
  "language_info": {
   "name": "python"
  }
 },
 "nbformat": 4,
 "nbformat_minor": 2
}
