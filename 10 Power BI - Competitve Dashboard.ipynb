{
 "cells": [
  {
   "cell_type": "markdown",
   "metadata": {},
   "source": [
    "### Framework Power BI \n",
    "\n",
    "EXTERNAL\n",
    "1 - Database (ERP, Excel, CSV, etc.)\n",
    "\n",
    "Power BI \n",
    "2 - ETL (Extraction / Transformation / Loading)\n",
    "\n",
    "3.1 - Data Model\n",
    "3.2 - Measures\n",
    "\n",
    "4 - Visualization\n",
    "\n",
    "5 - Publishing"
   ]
  },
  {
   "cell_type": "markdown",
   "metadata": {},
   "source": [
    "### Business Case #1\n",
    "\n",
    "Analysis Goals\n",
    "Sales - Top Car Dealer = We are sales analyst and need to develop a data analysis tools for our company sales.\n",
    "\n",
    "1. Present Revenue by Country (ZA / BT)\n",
    "2. Identify TOP 3 Cars Sold\n",
    "3. Compare revenue x profit between the brands\n",
    "4. Show Revenue and Sales by City and Dealer"
   ]
  }
 ],
 "metadata": {
  "language_info": {
   "name": "python"
  }
 },
 "nbformat": 4,
 "nbformat_minor": 2
}
