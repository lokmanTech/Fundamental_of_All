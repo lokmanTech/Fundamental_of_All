{
 "cells": [
  {
   "cell_type": "markdown",
   "metadata": {},
   "source": [
    "### Framework Power BI \n",
    "\n",
    "EXTERNAL\n",
    "1 - Database (ERP, Excel, CSV, etc.)\n",
    "\n",
    "Power BI \n",
    "2 - ETL (Extraction / Transformation / Loading)\n",
    "\n",
    "3.1 - Data Model\n",
    "3.2 - Measures\n",
    "\n",
    "4 - Visualization\n",
    "\n",
    "5 - Publishing"
   ]
  },
  {
   "cell_type": "markdown",
   "metadata": {},
   "source": [
    "### Business Case #1\n",
    "\n",
    "Analysis Goals\n",
    "Sales - Top Car Dealer = We are sales analyst and need to develop a data analysis tools for our company sales.\n",
    "\n",
    "1. Present Revenue by Country (ZA / BT)\n",
    "2. Identify TOP 3 Cars Sold\n",
    "3. Compare revenue x profit between the brands\n",
    "4. Show Revenue and Sales by City and Dealer"
   ]
  },
  {
   "cell_type": "markdown",
   "metadata": {},
   "source": [
    "### Business Case #2\n",
    "\n",
    "Project Goals\n",
    "Logistics - TopClass Freight Forwarder\n",
    "\n",
    "We are process analysts and need to develop a Data Analysis tool for analyzing the overall situation of clients and carriers OTIF (On Time (90%) - In Full (95% of orders) = OTIF (90% x 95% = 85.5%) is a measure the goodness of the data processed)\n",
    "\n",
    "1. Identify carriers' OTIF performance to present for managers\n",
    "2. Check the 5 worst OTIF accomplishment for clients so the team can create action plans for continuous improvement and immediately enhance their customer experience\n",
    "3. Identify the origin of late deliveries.\n",
    "\n",
    "Pro tips: ever encounter with CSV files that have data but not separated properly, the data might separate using ; or , whatever the case is. Here is the step where you can automatically fix it without rewrite the whole thing.\n",
    "Step 1: Press CTRL + Space (to select the whole column), then ALT + A + E, then choose delimited (and click next), then insert item that separate the data and click Finish. \n",
    "Step 2: To show the data in proper manners, press CTRL + A, then ALT + H + O + I, the data will automatically rearrange fitting with the column organizely.\n"
   ]
  },
  {
   "cell_type": "markdown",
   "metadata": {},
   "source": [
    "### How Power BI can help you\n",
    "\n",
    "As in your current company\n",
    "1. Visibility\n",
    "2. Acknowledgement\n",
    "3. Promotion\n",
    "\n",
    "As you seeking a new job\n",
    "4. Stand out in the crowd\n",
    "5. Proof of know-how\n",
    "6. Go for better opportunities\n",
    "\n",
    "If you are interested to become a consultant\n",
    "7. Sell projects on your own\n",
    "8. Work independently\n",
    "9.  Have a versatile lifestyle\n",
    "\n",
    "Career Boost with Power BI\n",
    "1. To get a promotion in my current job\n",
    "2. To get a new job\n",
    "       - `I already work/worked as an Analyst and the area is not new`\n",
    "         - Why you will be hired?\n",
    "           - List the reasons you believe you should be hired for the job you want\n",
    "           - List the reasons you believe you should not be hired\n",
    "             - Work on these items\n",
    "               - Take courses for technical knowledge and for what can be improved\n",
    "               - Mitigate what is not controllable\n",
    "             - How you will be hired?\n",
    "       - `I'm new to the area of Data Analysis`\n",
    "         - Why someone will hire you if you don't have the experience\n",
    "           - Make a list of your qualities as a person\n",
    "           - Based on your Portfolio of Projects/Dashboards\n",
    "             - Go to How (next step)\n",
    "           - You behave well in the interview\n",
    "             - Study how to behave in interviews and be prepared for the most common questions\n",
    "         - How you are going to get the new job\n",
    "           - `Attention on LinkedIn`\n",
    "             - Create a portfolio of Dashboards\n",
    "             - Post the Dashboards/Portfolio on LinkedIn\n",
    "             - Create a Website / Dashboards of Portfolio on Power BI\n",
    "           - `Interviews you applied for`\n",
    "             - Communicate your efforts and results in your journey to start in the field\n",
    "           - `Third party indication`\n",
    "             - You show your portfolio and convince people of your background/analysis and potential\n",
    "         - When?\n",
    "           - Write down a target to keep track\n",
    "3. To become a Power BI Consultant\n",
    "4. No promotion, I want to lead projects / area in my company"
   ]
  }
 ],
 "metadata": {
  "language_info": {
   "name": "python"
  }
 },
 "nbformat": 4,
 "nbformat_minor": 2
}
