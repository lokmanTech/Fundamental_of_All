{
 "cells": [
  {
   "cell_type": "code",
   "execution_count": 9,
   "metadata": {},
   "outputs": [
    {
     "data": {
      "image/png": "[encoded data removed]",
      "text/plain": [
       "<Figure size 640x480 with 1 Axes>"
      ]
     },
     "metadata": {},
     "output_type": "display_data"
    }
   ],
   "source": [
    "import networkx as nx\n",
    "import matplotlib.pyplot as plt\n",
    "\n",
    "# Create a directed graph\n",
    "G = nx.DiGraph()\n",
    "\n",
    "# Define nodes and labels\n",
    "nodes = {\n",
    "    'A': 'Data Collection',\n",
    "    'B': 'Data Cleaning\\nand Preprocessing',\n",
    "    'C': 'Exploratory Data\\nAnalysis (EDA)',\n",
    "    'D': 'Data Modeling',\n",
    "    'E': 'Model Evaluation',\n",
    "    'F': 'Data Visualization',\n",
    "    'G': 'Deployment'\n",
    "}\n",
    "\n",
    "# Add nodes with labels\n",
    "for node, label in nodes.items():\n",
    "    G.add_node(node, label=label)\n",
    "\n",
    "# Define edges\n",
    "edges = [\n",
    "    ('A', 'B'),\n",
    "    ('B', 'C'),\n",
    "    ('C', 'D'),\n",
    "    ('D', 'E'),\n",
    "    ('E', 'F'),\n",
    "    ('F', 'G')\n",
    "]\n",
    "\n",
    "# Add edges to the graph\n",
    "G.add_edges_from(edges)\n",
    "\n",
    "# Set node positions to create a linear layout\n",
    "pos = {node: (i, 0) for i, node in enumerate(G.nodes)}\n",
    "\n",
    "# Draw the graph with labels\n",
    "nx.draw(G, pos, with_labels=True, node_size=5000, node_color='lightblue', font_size=10, font_color='black', node_shape='s')\n",
    "\n",
    "# Draw edge labels (optional)\n",
    "edge_labels = {(src, dest): f'{src} -> {dest}' for src, dest in G.edges}\n",
    "nx.draw_networkx_edge_labels(G, pos, edge_labels=edge_labels, font_size=8)\n",
    "\n",
    "# Remove axis and display the graph\n",
    "plt.axis('off')\n",
    "plt.show()"
   ]
  }
 ],
 "metadata": {
  "kernelspec": {
   "display_name": "Python 3",
   "language": "python",
   "name": "python3"
  },
  "language_info": {
   "codemirror_mode": {
    "name": "ipython",
    "version": 3
   },
   "file_extension": ".py",
   "mimetype": "text/x-python",
   "name": "python",
   "nbconvert_exporter": "python",
   "pygments_lexer": "ipython3",
   "version": "3.11.5"
  }
 },
 "nbformat": 4,
 "nbformat_minor": 2
}
