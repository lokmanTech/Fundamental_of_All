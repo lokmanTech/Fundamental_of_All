{
 "cells": [
  {
   "cell_type": "code",
   "execution_count": null,
   "metadata": {},
   "outputs": [],
   "source": [
    "<script>\n",
    "  function code_toggle() {\n",
    "    if (code_shown){\n",
    "      $('div.input').hide('500');\n",
    "      $('#toggleButton').val('Show Code')\n",
    "    } else {\n",
    "      $('div.input').show('500');\n",
    "      $('#toggleButton').val('Hide Code')\n",
    "    }\n",
    "    code_shown = !code_shown\n",
    "  }\n",
    "\n",
    "  $( document ).ready(function(){\n",
    "    code_shown=false;\n",
    "    $('div.input').hide()\n",
    "  });\n",
    "</script>\n",
    "<form action=\"javascript:code_toggle()\"><input type=\"submit\" id=\"toggleButton\" value=\"Show Code\"></form>"
   ]
  },
  {
   "cell_type": "markdown",
   "metadata": {},
   "source": [
    "# ROLES & COMPARISON\n",
    "\n",
    "### Introduction\n",
    "\n",
    "there are various position in IT field, furthermore every field has its own sector and specialty. To focus on, we need to understand that field of data and information technology. This field I can say that, its divided into four (4) department\n",
    "\n",
    "* 1. Software Engineering\n",
    "* 2. Data Engineering\n",
    "* 3. Data Analyst\n",
    "* 4. Data Scientist\n",
    "\n",
    "Every roles mentioned above have their objective. To begin with,\n",
    "\n",
    "#### Collect\n",
    "Software Engineering what I can say that its bottom of the hierarchy which their role is to: intrumentation, logging, sensors, external data, user generated content.\n",
    "\n",
    "#### Move / Store\n",
    "The roles of software engineering is not there, they will: create reliable data flow, infrastrucure, pipelines, etl, structure & unstructured data storage.\n",
    "\n",
    "#### Explore / Transform\n",
    "Moving forward, to third based of pyramid hierarchy it comes the Data Engineering, this role will: cleaning, anomaly detection, prep\n",
    "\n",
    "#### Aggregate / Label\n",
    "Now comes the Data Analyst in the picture, which their role is to: prep the analytics works, metrics, segments, aggregates, features, training data\n",
    "\n",
    "#### Learn / Optimize\n",
    "now the top hierarchy of the job, Data scientist, their role is to: A/B testing, Experimentation, Simple ML Algorithms, \n",
    "\n",
    "Furthermore, they also will extend their skill to: AI & Deep learning.\n",
    "\n"
   ]
  },
  {
   "cell_type": "markdown",
   "metadata": {},
   "source": []
  }
 ],
 "metadata": {
  "language_info": {
   "name": "python"
  },
  "orig_nbformat": 4
 },
 "nbformat": 4,
 "nbformat_minor": 2
}
