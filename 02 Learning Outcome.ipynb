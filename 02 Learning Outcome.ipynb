{
 "cells": [
  {
   "cell_type": "raw",
   "metadata": {},
   "source": [
    "<script>\n",
    "  function code_toggle() {\n",
    "    if (code_shown){\n",
    "      $('div.input').hide('500');\n",
    "      $('#toggleButton').val('Show Code')\n",
    "    } else {\n",
    "      $('div.input').show('500');\n",
    "      $('#toggleButton').val('Hide Code')\n",
    "    }\n",
    "    code_shown = !code_shown\n",
    "  }\n",
    "\n",
    "  $( document ).ready(function(){\n",
    "    code_shown=false;\n",
    "    $('div.input').hide()\n",
    "  });\n",
    "</script>\n",
    "<form action=\"javascript:code_toggle()\"><input type=\"submit\" id=\"toggleButton\" value=\"Show Code\"></form>"
   ]
  },
  {
   "cell_type": "markdown",
   "metadata": {},
   "source": [
    "# Learning Outcome\n",
    "\n",
    "### Data Analyst >> Data Scientist\n",
    "This profession is to translate data into valuable and comprehensible insights.\n",
    "The goals is to find suitable and improve results, plus, make the right decisions and save costs.\n",
    "Another skills that will be expected\n",
    "\n",
    "  1. Machine Learning\n",
    "  2. Supervised & Unsupervised algorithms\n",
    "  3. Use Data Visualization for presentations\n",
    "Tools to be used: SQL, R, Phyton, QlikView, Tableau & Power BI\n",
    "\n",
    "* Data Analysis: analyzing data. Results, trends and recommendations are clearly presented in reports or tools.\n",
    "\n",
    "* Advice and coaching projects: Before and during data-related projects, Provide advice on the progress of the project and coach the teams.\n",
    "\n",
    "* Data analytics: Get more value from your data with prediction models and machine learning techniques, for example by predicting behavior or targeting the right customer.\n",
    "\n",
    "* (Interactive) infographics: Present your data in an inspiring way by using an infographic rather than a piece of text. Create interactive infographics which can be used internally or publicly.\n",
    "\n",
    "* Dashboards: Dashboards show the most recent results in an interactive way. By clicking and drilling, you will examine trends and patterns yourself.\n",
    "\n",
    "* Front-end web developer: Help to design and create the perfect website for starters and freelancers. The website is optimized for desktop and smartphone.\n",
    "\n"
   ]
  }
 ],
 "metadata": {
  "kernelspec": {
   "display_name": "Python 3",
   "language": "python",
   "name": "python3"
  },
  "language_info": {
   "codemirror_mode": {
    "name": "ipython",
    "version": 3
   },
   "file_extension": ".py",
   "mimetype": "text/x-python",
   "name": "python",
   "nbconvert_exporter": "python",
   "pygments_lexer": "ipython3",
   "version": "3.11.5"
  },
  "orig_nbformat": 4
 },
 "nbformat": 4,
 "nbformat_minor": 2
}
