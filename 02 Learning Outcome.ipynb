{
 "cells": [
  {
<<<<<<< HEAD
   "cell_type": "raw",
   "metadata": {},
   "source": [
    "# Learning Outcome\n",
    "\n",
    "## Data Analyst >> Data Scientist\n",
    "This profession is to translate data into valuable and comprehensible insights.\n",
    "The goals is to find suitable and improve results, plus, make the right decisions and save costs.\n",
    "Another skills that will be expected\n",
    "\n",
    "  1. Machine Learning\n",
    "  2. Supervised & Unsupervised algorithms\n",
    "  3. Use Data Visualization for presentations\n",
    "Tools to be used: SQL, R, Phyton, QlikView, Tableau & Power BI\n",
    "\n",
    "* Data Analysis: analyzing data. Results, trends and recommendations are clearly presented in reports or tools.\n",
    "\n",
    "* Advice and coaching projects: Before and during data-related projects, Provide advice on the progress of the project and coach the teams.\n",
    "\n",
    "* Data analytics: Get more value from your data with prediction models and machine learning techniques, for example by predicting behavior or targeting the right customer.\n",
    "\n",
    "* (Interactive) infographics: Present your data in an inspiring way by using an infographic rather than a piece of text. Create interactive infographics which can be used internally or publicly.\n",
    "\n",
    "* Dashboards: Dashboards show the most recent results in an interactive way. By clicking and drilling, you will examine trends and patterns yourself.\n",
    "\n",
    "* Front-end web developer: Help to design and create the perfect website for starters and freelancers. The website is optimized for desktop and smartphone.\n",
    "\n"
   ]
  },
  {
   "cell_type": "code",
   "execution_count": null,
   "metadata": {
    "vscode": {
     "languageId": "plaintext"
    }
   },
=======
   "cell_type": "code",
   "execution_count": null,
   "metadata": {},
>>>>>>> dc27f176c55589215a79e25687c12d89bb34da8a
   "outputs": [],
   "source": []
  }
 ],
 "metadata": {
  "language_info": {
   "name": "python"
  },
  "orig_nbformat": 4
 },
 "nbformat": 4,
 "nbformat_minor": 2
}
