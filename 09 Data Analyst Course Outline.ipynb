{
 "cells": [
  {
   "cell_type": "markdown",
   "metadata": {},
   "source": [
    "### Data Analyst Course Outline (from ChatGPT)\n",
    "\n",
    "### Data Analyst Fundamentals\n",
    "<b>Module 1: Introduction to Data Analysis</b>\n",
    "- Lesson 1: Overview of Data Analysis\n",
    "  - Introduction to data analysis and its importance\n",
    "  - Key terms and concepts in data analysis\n",
    "- Lesson 2: Data types and sources\n",
    "  - Understanding different data types (numerical, categorical, textual)\n",
    "  - Exploring data source (databases, spreadsheet, APIs)\n",
    "- Lesson 3: Data Collection and Cleaning\n",
    "  - Techniques for collecting and importing data\n",
    "  - Data cleaning and preprocessing best practices\n",
    "\n",
    "### Data Analyst Course Outline (from https://www.generalassembly.my/courses/data/data-analytics-bootcamp/#course-outline) \n",
    "\n",
    "#### Pre-work: Welcome to Data Analytics\n",
    "\n",
    "Explore the essentials of data wrangling- i.e the process of finding, sifting through, cleaning and transforming data - so it can be used to answer business questions.\n",
    "\n",
    "<b>The Data Framework</b>\n",
    "- Explain the value of data\n",
    "- Describe the data framework and how it's used by anaylsts\n",
    "- write a specific and testable question given a scenario\n",
    "\n",
    "<b>Finding the right data</b>"
   ]
  },
  {
   "cell_type": "markdown",
   "metadata": {},
   "source": []
  },
  {
   "cell_type": "markdown",
   "metadata": {},
   "source": []
  }
 ],
 "metadata": {
  "language_info": {
   "name": "python"
  }
 },
 "nbformat": 4,
 "nbformat_minor": 2
}
