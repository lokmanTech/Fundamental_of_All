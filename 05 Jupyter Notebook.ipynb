{
 "cells": [
  {
   "cell_type": "markdown",
   "metadata": {},
   "source": [
    "Open terminal / CMD \n",
    "\n",
    "pip3 install numpy /pip install numpy\n",
    "pip3 install pandas / pip install pandas\n",
    "\n",
    "### Javascript\n",
    "install node.js - https://nodejs.org/en\n",
    "pip3 install notebook / pip install notebook\n",
    "npm install -g ijavascript"
   ]
  }
 ],
 "metadata": {
  "language_info": {
   "name": "python"
  },
  "orig_nbformat": 4
 },
 "nbformat": 4,
 "nbformat_minor": 2
}
