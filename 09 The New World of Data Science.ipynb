{
 "cells": [
  {
   "cell_type": "markdown",
   "metadata": {},
   "source": [
    "# The Data Science Notebook\n",
    "\n",
    "Complete Data Science Training: Mathematics, Statistics, Python, Advanced Statistic in Python, Machine & amp; Deep Learning\n",
    "\n",
    "In this notes, Im going though on the entire toolboz you need to become a data scientist, following might impress the interviewers by showing an understanding of the data science field, Understand the mathematics behind machine learning. I will explore on the performing linear and logistic regressions Pyhton. Able to create machine learning algorithm in python, using NumbPy, statmodels and scikit-learn. Plus, use state of the art Deep Learning framework suh as Googles's Tensorflow Develop a buisness intuition while and solving the tasks with big data. Improve Machine Learning algorithm by studying underfitting m overfittingm training validation, n-fold cross validation, testing, and how hyperparamaters could improve performance. Next, filling up the resume with in demand data sciece skills: Statistical analysis, pyhton programminig with numpy, pandas, matplotlib and seaborn advanced statistical analyis, tableau machine learning with stats models and scikit-learn deep learning with tensor flow. Learn also how to pre-process data, start coding in pyhton and learn how to use it for statistical analysis, carry out cluster and factor analysis applyinh the skills to real-life business case. unfold the power of deep neural networks. Warm up your fingers as you will be eager to apply everything you have learned here to more and more real-life situations.\n",
    "\n",
    "the course consists 31hours on demand video, 138 coding exercise, 93 articles, 539 downloadable resources, \n",
    "\n",
    "Part 1: Introduction\n",
    "    - A practical Example: What you will learn in this course\n",
    "    - What Does the course cover\n",
    "    - Doenload all resouces and omportant faq\n",
    "  - The field of data science - the various data science disciplines\n",
    "    - Data Science and buinsess buzzwords: Why are there so many?\n",
    "    - What is the difference between analysis and analytics\n",
    "    - business analytics, data analytics and data science: an introduction\n",
    "    - continuing with BI, ML and AI\n",
    "  - The filed of data sience - connecting the data science disciplines\n",
    "    - Applying tradional data, big data, BI, tradiotinal Data Science and ML\n",
    "  - The Field of Data Science - The benefits of each discipline\n",
    "    - The reason behind these disciplines"
   ]
  }
 ],
 "metadata": {
  "language_info": {
   "name": "python"
  }
 },
 "nbformat": 4,
 "nbformat_minor": 2
}
